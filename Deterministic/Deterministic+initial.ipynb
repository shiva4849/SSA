{
 "cells": [
  {
   "cell_type": "code",
   "execution_count": 61,
   "metadata": {
    "collapsed": true
   },
   "outputs": [],
   "source": [
    "import torch\n",
    "import numpy as np\n",
    "from scipy.integrate import odeint\n",
    "import matplotlib.pyplot as plt"
   ]
  },
  {
   "cell_type": "code",
   "execution_count": null,
   "metadata": {
    "collapsed": true
   },
   "outputs": [],
   "source": []
  },
  {
   "cell_type": "code",
   "execution_count": 62,
   "metadata": {
    "collapsed": true
   },
   "outputs": [],
   "source": [
    "#Creating the system of Ordinary Differential Equations\n",
    "#S=Array of Species\n",
    "#t= a time variable(Format needed for using odeint ode solver)\n",
    "#R= stoichiometry matrix  (Coefficients of Reactions as Columns)\n",
    "#r= Array of Reaction Rates starting from R1\n",
    "def Dsys(S,t,R,r):\n",
    "    dydt=np.zeros(len(S))\n",
    "    for i in range(len(R)):\n",
    "        for j in range(len(R[0])):\n",
    "            dydt[i]=dydt[i]+S[j]*R[i,j]*r[j]\n",
    "    return dydt        "
   ]
  },
  {
   "cell_type": "code",
   "execution_count": 63,
   "metadata": {
    "collapsed": true
   },
   "outputs": [],
   "source": [
    "R=np.array([[-1,1],[1,-1]]) #Example Reversible Reaction A->B,B->A\n",
    "r=np.array([0.7,0.5])       #Reaction rates for A and B Respectively."
   ]
  },
  {
   "cell_type": "code",
   "execution_count": null,
   "metadata": {
    "collapsed": true
   },
   "outputs": [],
   "source": []
  },
  {
   "cell_type": "code",
   "execution_count": 66,
   "metadata": {
    "collapsed": true
   },
   "outputs": [],
   "source": [
    "y0 = [25, 5.0]              #Initial Concentrations\n",
    "t = np.linspace(0, 10, 101) #Time grid\n",
    "sol = odeint(Dsys, y0, t, args=(R,r))  #solving ODE"
   ]
  },
  {
   "cell_type": "code",
   "execution_count": 68,
   "metadata": {},
   "outputs": [
    {
     "data": {
      "image/png": "[encoded data removed]",
      "text/plain": [
       "<matplotlib.figure.Figure at 0x7fdfb5737a90>"
      ]
     },
     "metadata": {},
     "output_type": "display_data"
    }
   ],
   "source": [
    "plt.plot(t, sol[:, 0], 'b', label='Conc of A')\n",
    "plt.plot(t, sol[:, 1], 'g', label='Conc of B')\n",
    "plt.legend(loc='best')\n",
    "plt.xlabel('t')\n",
    "plt.grid()\n",
    "plt.show()"
   ]
  },
  {
   "cell_type": "code",
   "execution_count": null,
   "metadata": {
    "collapsed": true
   },
   "outputs": [],
   "source": []
  }
 ],
 "metadata": {
  "kernelspec": {
   "display_name": "Python 2",
   "language": "python",
   "name": "python2"
  },
  "language_info": {
   "codemirror_mode": {
    "name": "ipython",
    "version": 2
   },
   "file_extension": ".py",
   "mimetype": "text/x-python",
   "name": "python",
   "nbconvert_exporter": "python",
   "pygments_lexer": "ipython2",
   "version": "2.7.12"
  }
 },
 "nbformat": 4,
 "nbformat_minor": 2
}
